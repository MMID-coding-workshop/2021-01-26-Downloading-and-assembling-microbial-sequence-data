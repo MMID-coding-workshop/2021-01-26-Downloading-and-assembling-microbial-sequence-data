{
 "cells": [
  {
   "cell_type": "markdown",
   "id": "87d9970d-0d30-4488-b896-086215563a8f",
   "metadata": {},
   "source": [
    "# 1. Downloading and assembling microbial sequence data\n",
    "\n",
    "Welcome to the **Downloading and assembling microbial sequence data** supplementary materials. This document is written as a [Jupyter](https://jupyter.org/) notebook, which means that it contains both written documentation as well as runnable code in the same document.\n",
    "\n",
    "There are two methods you can use to run the code here: (1) either copy-paste the bash commands to a separate terminal, or (2) you can run directly in Juptyer."
   ]
  },
  {
   "cell_type": "markdown",
   "id": "b48d0acf-c235-4087-9834-8ebd2cbc51e1",
   "metadata": {},
   "source": [
    "## 1.1. Copy-paste commands to a separate terminal"
   ]
  },
  {
   "cell_type": "markdown",
   "id": "fe1a4579-8c0d-4ff7-a7d4-3cc4dc00756b",
   "metadata": {},
   "source": [
    "## 1.2. Running from within Jupyter\n",
    "\n",
    "The easiest way to run the code is to click the **Play** button in the Jupyter notebook as shown below:\n",
    "\n",
    "![run-jupyter.png](../images/run-jupyter.png)\n",
    "\n",
    "This will run a single cell (block of code or text) and advance to the next cell. A cell that's running will be marked with an asterisk `*`:\n",
    "\n",
    "![jupyter-cell-run.png](../images/jupyter-cell-run.png)\n",
    "\n",
    "If you, instead, which to run everything in this notebook all at once you can find the **Kerenel** option in the menu at the top and select **Restart Kerenel and Run All Cells..**, which will run everything in this notebook all at once.\n",
    "\n",
    "![restart-kernel-jupyter.png](../images/restart-kernel-jupyter.png)"
   ]
  },
  {
   "cell_type": "markdown",
   "id": "c2160c6a-6691-44ad-a8d4-ad0dc8322d14",
   "metadata": {},
   "source": [
    "# 2. Download genomes from NCBI\n",
    "\n",
    "In this section we will go over how to download genomes from [NCBI's Sequence Read Archive](https://www.ncbi.nlm.nih.gov/sra/) by using the [SRA Tools](https://github.com/ncbi/sra-tools) command-line software provided by NCBI."
   ]
  },
  {
   "cell_type": "markdown",
   "id": "ccdc0ad5-173a-4271-9a24-513565b06c35",
   "metadata": {},
   "source": [
    "## 2.1. Install `sra-tools` using conda\n",
    "\n",
    "This will create a new conda environment `sra-tools` and install the package `sra-tools` in this environment.\n",
    "\n",
    "The `-y` option here means to automatically answer `yes` to any prompts for input by conda. This is important when running using Jupyter (but can be left out if you are running via the command-line)."
   ]
  },
  {
   "cell_type": "code",
   "execution_count": null,
   "id": "8c678e8d-aa50-4f3b-b393-92026b899c2e",
   "metadata": {},
   "outputs": [],
   "source": [
    "conda create -y -n sra-tools sra-tools"
   ]
  },
  {
   "cell_type": "markdown",
   "id": "9ee7570f-c35f-462c-9979-daa0999b01f5",
   "metadata": {},
   "source": [
    "## 2.2. Verify `sra-tools` is working\n",
    "\n",
    "Let's verify that the tools found in the package `sra-tools` are working properly. We can do this by running one of the installed commands, `prefetch` like so:"
   ]
  },
  {
   "cell_type": "code",
   "execution_count": null,
   "id": "b2c752f6-108e-4ff9-8538-c49e3177f415",
   "metadata": {},
   "outputs": [],
   "source": [
    "conda run -n sra-tools prefetch --help"
   ]
  },
  {
   "cell_type": "markdown",
   "id": "af63b69b-e8bd-4686-b818-9639e6edd259",
   "metadata": {},
   "source": [
    "Notice that I ran by first specifying `conda run -n sra-tools [...]`. The `conda run` part lets you specify a particular environment to activate first before trying to run a tool. It's useful in cases where you are installing each tool in a separate environment (as we are doing here). You can also use `conda activate sra-tools` first and then run `prefetch --help` (but this will not work if running in Jupyter)."
   ]
  },
  {
   "cell_type": "markdown",
   "id": "e8f42647-2ae8-47d5-96b7-67ec2e045a85",
   "metadata": {},
   "source": [
    "## 2.3. Prefetch genomes (`prefetch`)\n",
    "\n",
    "The [prefetch](https://github.com/ncbi/sra-tools/wiki/08.-prefetch-and-fasterq-dump) command that is part of the `sra-tools` package can be used to download and store sequence read data from NCBI's Sequence Read Archive. You can run it like so:"
   ]
  },
  {
   "cell_type": "code",
   "execution_count": null,
   "id": "222fa969-b9a7-4ef3-a550-088c040ed97c",
   "metadata": {},
   "outputs": [],
   "source": [
    "conda run -n sra-tools prefetch SRR3028792"
   ]
  },
  {
   "cell_type": "markdown",
   "id": "5efaef5b-0d5a-4bb8-bcb7-cb053bf12bbc",
   "metadata": {},
   "source": [
    "You can even pass multiple accession numbers to `prefetch` like so:"
   ]
  },
  {
   "cell_type": "code",
   "execution_count": null,
   "id": "870dcff6-61d5-4c6f-b738-86f08e7cbe20",
   "metadata": {},
   "outputs": [],
   "source": [
    "conda run -n sra-tools prefetch SRR3028792 SRR3028793"
   ]
  },
  {
   "cell_type": "markdown",
   "id": "d7271749-f8d7-4693-bac2-47f1289761f8",
   "metadata": {},
   "source": [
    "The `prefetch` command downloads the data from NCBI and stores on your computer in a special directory by default. You can see which directory using the `srapath` command:"
   ]
  },
  {
   "cell_type": "code",
   "execution_count": null,
   "id": "07b56476-0e95-42f8-9d68-7b6d1c159355",
   "metadata": {},
   "outputs": [],
   "source": [
    "conda run -n sra-tools srapath SRR3028792"
   ]
  },
  {
   "cell_type": "markdown",
   "id": "e6a50478-ec6b-4e49-895b-d6efdbfcc7d2",
   "metadata": {},
   "source": [
    "For how to know what identifier to use for `prefetch`, this can be found on the NCBI website.\n",
    "\n",
    "For example for `SRR3028792`, you can find this identifier (and the associated biological sample) at https://www.ncbi.nlm.nih.gov/sra/?term=SRR3028792\n",
    "\n",
    "![genome-sra-identifier.png](../images/genome-sra-identifier.png)"
   ]
  },
  {
   "cell_type": "markdown",
   "id": "06866e80-a81c-4a6b-bc6b-7d6d50eb5cc7",
   "metadata": {},
   "source": [
    "## 2.4. Convert to fastq (`fasterq-dump`)\n",
    "\n",
    "Once you've prefetched the sequence data you can convert to the **fastq** format using `fasterq-dump` (which is named based on the older `fastq-dump` tool)."
   ]
  },
  {
   "cell_type": "code",
   "execution_count": null,
   "id": "41443e95-f5d0-4cec-96b9-5759213f3b28",
   "metadata": {},
   "outputs": [],
   "source": [
    "conda run -n sra-tools fasterq-dump SRR3028792"
   ]
  },
  {
   "cell_type": "markdown",
   "id": "f504e35c-005e-4d6a-81e3-de6ed3a862ee",
   "metadata": {},
   "source": [
    "This will write two `*.fastq` files do your current directory which contain the forward (`_1.fastq`) and reverse (`_2.fastq`) reads.\n",
    "\n",
    "We can use the `ls` command to **l**i**s**t the files and show additional information (such as file size)."
   ]
  },
  {
   "cell_type": "code",
   "execution_count": null,
   "id": "fcd6f919-2012-4c4d-9548-c20997eca57a",
   "metadata": {},
   "outputs": [],
   "source": [
    "ls -lh *.fastq"
   ]
  },
  {
   "cell_type": "markdown",
   "id": "bb39e0cb-669b-48bf-a09e-2666c9f75a86",
   "metadata": {},
   "source": [
    "The `396M` part shows us that `SRR3028792_1.fastq` is **396 MB**. The `-lh` part is interpreted as follows: `l` is for **long list**, which means extra information (such as file size) is printed, `h` is for **human readable** which means that file sizes are converted into easier to read units (like MB, GB, etc) instead of being left as bytes. \n",
    "\n",
    "We can compress these files to save on storage space using the `gzip` command.\n",
    "\n",
    "*Tip: To speed this up, you can use `pigz` (parallel gzip) instead of `gzip`, which will take advantage of multiple processing cores on your machine. Just run `pigz *.fastq`. If you don't have `pigz` installed it can be installed with `conda install pigz`.*"
   ]
  },
  {
   "cell_type": "code",
   "execution_count": null,
   "id": "27e0db23-e1f0-4c6e-ab2a-a196b4cc2222",
   "metadata": {},
   "outputs": [],
   "source": [
    "gzip *.fastq"
   ]
  },
  {
   "cell_type": "code",
   "execution_count": null,
   "id": "b2d0bcf6-8489-4cee-94bb-3e2a5207b4a5",
   "metadata": {},
   "outputs": [],
   "source": [
    "ls -lth *.fastq.gz"
   ]
  },
  {
   "cell_type": "markdown",
   "id": "6d51cbd5-cca1-4658-a997-9c423e35a7fb",
   "metadata": {},
   "source": [
    "Now the files end in `.fastq.gz` instead of `.fastq` and are much smaller (`SRR3028792_1.fastq.gz` is **110 MB** compared to **396 MB** for the uncompressed file)."
   ]
  },
  {
   "cell_type": "markdown",
   "id": "d1becc05-d400-4700-9af9-50d1a75b0f8f",
   "metadata": {},
   "source": [
    "We can also look at the file contents using the `cat` (or `zcat` for files ending in `.gz`) commands along with `head`."
   ]
  },
  {
   "cell_type": "code",
   "execution_count": null,
   "id": "2b30427f-5412-4985-b1a0-6b22ff28a0be",
   "metadata": {},
   "outputs": [],
   "source": [
    "zcat SRR3028792_1.fastq.gz | head"
   ]
  },
  {
   "cell_type": "markdown",
   "id": "6ca4e652-f1c4-4a8c-bbfa-8380a0fa9713",
   "metadata": {},
   "source": [
    "The command `zcat` uncompresses any `*.gz` files and then prints out the contents. Since these are large files we likely only want to look at the first few lines in the file. The command `head` will print out the first 10 lines by default (and ignore all the rest). The `|` character tells bash that we want to take the output of `zcat SRR3028792_1.fastq.gz` (which will print all the lines of a file) and forward it into the `head` command (which will print out the first 10 lines of data and ignore the rest).\n",
    "\n",
    "The end result is we see the first 10 lines of the `SRR3028792_1.fastq.gz` file.\n",
    "\n",
    "We can do the same thing for the reverse reads."
   ]
  },
  {
   "cell_type": "code",
   "execution_count": null,
   "id": "69c3e30d-ebae-4711-aad2-33ee7dc1ace7",
   "metadata": {},
   "outputs": [],
   "source": [
    "zcat SRR3028792_2.fastq.gz | head"
   ]
  },
  {
   "cell_type": "markdown",
   "id": "ec55e0e4-85c5-4d18-82d4-d7af6cb065c8",
   "metadata": {},
   "source": [
    "*Tip: In addition to `head` which prints the first few lines of a file, there is also `tail` which prints the last few lines of a file.*"
   ]
  },
  {
   "cell_type": "markdown",
   "id": "99d8fe83-bf09-41c5-9bc6-0979bf4ce00e",
   "metadata": {},
   "source": [
    "# 3. Quality filter files (`fastp`)\n",
    "\n",
    "The software [fastp](https://github.com/OpenGene/fastp) can be used to generate a report of the quality of the sequence reads as well as remove any poor-quality reads which might cause issues for downstream analysis."
   ]
  },
  {
   "cell_type": "markdown",
   "id": "fd71b01d-f656-4cd6-91f2-e7dc66c05db6",
   "metadata": {},
   "source": [
    "## 3.1. Install `fastp` using conda\n",
    "\n",
    "We can first install `fastp` using conda."
   ]
  },
  {
   "cell_type": "code",
   "execution_count": null,
   "id": "faa459cb-e786-4bdf-9f48-d86b734432fc",
   "metadata": {},
   "outputs": [],
   "source": [
    "conda create -y -n fastp fastp"
   ]
  },
  {
   "cell_type": "markdown",
   "id": "0fdce5dd-4fdc-424a-a99b-6c990c730df3",
   "metadata": {},
   "source": [
    "Now let's take a look at all the different options available for running `fastp`."
   ]
  },
  {
   "cell_type": "code",
   "execution_count": null,
   "id": "7317080a-1fea-4989-9516-174e9cf0d051",
   "metadata": {},
   "outputs": [],
   "source": [
    "conda run -n fastp fastp --help"
   ]
  },
  {
   "cell_type": "markdown",
   "id": "6e5630fe-c25a-491d-b1c0-888866bcb880",
   "metadata": {},
   "source": [
    "## 3.2. Evaluate quality of sequence reads\n",
    "\n",
    "To run `fastp` on our set of sequence reads, we can pass in the `*.fastq.gz` files to the command and specify the output file names."
   ]
  },
  {
   "cell_type": "code",
   "execution_count": null,
   "id": "b7e7f612-fca1-4242-80b8-428e1940a64b",
   "metadata": {},
   "outputs": [],
   "source": [
    "conda run -n fastp fastp --in1 SRR3028792_1.fastq.gz --in2 SRR3028792_2.fastq.gz --out1 SRR3028792_1.fp.fastq.gz --out2 SRR3028792_2.fp.fastq.gz --html SRR3028792.html --json SRR3028792.json"
   ]
  },
  {
   "cell_type": "markdown",
   "id": "000237d7-e164-41d4-87ec-fb6cfe8033c4",
   "metadata": {},
   "source": [
    "# 4. Genome assembly (`skesa`)\n",
    "\n",
    "## 4.1. Install skesa"
   ]
  },
  {
   "cell_type": "code",
   "execution_count": null,
   "id": "da879b03-092a-46d6-92eb-3ec9870f7b8f",
   "metadata": {},
   "outputs": [],
   "source": [
    "conda create -y -n skesa skesa"
   ]
  },
  {
   "cell_type": "markdown",
   "id": "63b3e0c9-5349-48a6-b6d0-42219db8cc82",
   "metadata": {},
   "source": [
    "## 4.2. Assemble genome"
   ]
  },
  {
   "cell_type": "code",
   "execution_count": null,
   "id": "783bc907-e4e4-40cc-8190-fbe03af9d060",
   "metadata": {},
   "outputs": [],
   "source": [
    "conda run -n skesa skesa --reads SRR3028792_1.fp.fastq.gz,SRR3028792_2.fp.fastq.gz --contigs_out SRR3028792.fasta"
   ]
  },
  {
   "cell_type": "markdown",
   "id": "1a15ee6b-9b19-47ec-a2a7-d9825edafaa9",
   "metadata": {},
   "source": [
    "# 5. Evaulate assembly quality (`quast`)\n",
    "\n",
    "## 5.1. Install `quast`"
   ]
  },
  {
   "cell_type": "code",
   "execution_count": null,
   "id": "603778c6-3265-432a-a70b-f1740251e69d",
   "metadata": {},
   "outputs": [],
   "source": [
    "conda create -y -n quast quast"
   ]
  },
  {
   "cell_type": "code",
   "execution_count": null,
   "id": "5640c41e-c3f0-4d64-9db1-2cb35adea2f0",
   "metadata": {},
   "outputs": [],
   "source": [
    "conda run -n quast quast --help"
   ]
  },
  {
   "cell_type": "markdown",
   "id": "acc66f85-118e-4cf8-92c1-09070f568cb5",
   "metadata": {},
   "source": [
    "## 5.2. Create a quality report with `quast`"
   ]
  },
  {
   "cell_type": "code",
   "execution_count": null,
   "id": "32e19c56-423d-4226-bb11-0b4b52b6bf57",
   "metadata": {},
   "outputs": [],
   "source": [
    "conda run -n quast quast SRR3028792.fasta"
   ]
  },
  {
   "cell_type": "markdown",
   "id": "a2ec972d-5049-4529-933a-5b0445ccf568",
   "metadata": {},
   "source": [
    "### 5.2.1 Zip up report for download\n",
    "\n",
    "Let's zip up the quast report for download so we can open it in our browser. You can create a `*.zip` archive from the command-line with the `zip` command."
   ]
  },
  {
   "cell_type": "code",
   "execution_count": null,
   "id": "87bd5bcd-7871-43d0-bac7-6fd72cdc5f51",
   "metadata": {},
   "outputs": [],
   "source": [
    "zip -r quast.zip quast_results"
   ]
  },
  {
   "cell_type": "markdown",
   "id": "828277fb-a6e3-4cc5-8053-183b415ec0e9",
   "metadata": {},
   "source": [
    "# 6. Where to go from here\n",
    "\n",
    "An assembled genome file (`SRR3028792.fasta`) often forms the basis for other downstream analysis. Here are a few examples you can try on your own:\n",
    "\n",
    "1. Try uploading `SRR3028792.fasta` to CARD/RGI (which will identify genes associated with antimicrobial resistance): https://card.mcmaster.ca/analyze/rgi"
   ]
  }
 ],
 "metadata": {
  "kernelspec": {
   "display_name": "Calysto Bash",
   "language": "bash",
   "name": "calysto_bash"
  },
  "language_info": {
   "file_extension": ".sh",
   "help_links": [
    {
     "text": "MetaKernel Magics",
     "url": "https://metakernel.readthedocs.io/en/latest/source/README.html"
    }
   ],
   "mimetype": "text/x-sh",
   "name": "bash",
   "version": "0.2.2"
  }
 },
 "nbformat": 4,
 "nbformat_minor": 5
}
